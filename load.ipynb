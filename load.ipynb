{
 "cells": [
  {
   "cell_type": "code",
   "execution_count": null,
   "metadata": {},
   "outputs": [],
   "source": [
    "from transformers import AutoModelForCausalLM, AutoTokenizer, pipeline\n",
    "\n",
    "model_path = \"./model\"\n",
    "model = AutoModelForCausalLM.from_pretrained(model_path)\n",
    "tokenizer = AutoTokenizer.from_pretrained(model_path)\n",
    "pipe = pipeline(\"text-generation\", model=model, tokenizer=tokenizer)"
   ]
  },
  {
   "cell_type": "code",
   "execution_count": null,
   "metadata": {},
   "outputs": [],
   "source": [
    "from datasets import load_dataset\n",
    "from tqdm import tqdm\n",
    "import json\n",
    "\n",
    "eval_dataset = load_dataset(\"json\", data_files=\"hospital_test.json\", split=\"train\")\n",
    "\n",
    "def evaluate_position(sample):\n",
    "    try:\n",
    "        prompt = pipe.tokenizer.apply_chat_template(sample[\"messages\"][:2], tokenize=False, add_generation_prompt=True)\n",
    "        outputs = pipe(prompt, max_new_tokens=256, do_sample=True, temperature=0.7, top_k=50, top_p=0.95, eos_token_id=pipe.tokenizer.eos_token_id, pad_token_id=pipe.tokenizer.pad_token_id)\n",
    "        # 提取验证集的位置信息\n",
    "        generated_positions = json.loads(sample[\"messages\"][2][\"content\"])[\"positions\"]\n",
    "        print(generated_positions)\n",
    "        # 提取生成的位置信息\n",
    "        print(json.loads(sample[\"messages\"][2][\"content\"])[\"explanation\"])\n",
    "        print(f\"Generated Answer:{outputs[0]['generated_text'][len(prompt):].strip()}\")\n",
    "        true_positions = json.loads(outputs[0][\"generated_text\"][len(prompt):].strip())[\"positions\"]\n",
    "        print(true_positions)\n",
    "        # 比较生成的位置信息和验证集中的位置信息是否相等\n",
    "        if generated_positions == true_positions:\n",
    "            print(\"right\")\n",
    "            return 1\n",
    "        else:\n",
    "            print(\"wrong\")\n",
    "            return 0\n",
    "    except json.JSONDecodeError:\n",
    "        # 如果无法解析为 JSON，直接输出“error format”\n",
    "        print(\"error format\")\n",
    "        return 0\n",
    "\n",
    "success_rate = []\n",
    "number_of_eval_samples = 127\n",
    "# iterate over eval dataset and predict\n",
    "for s in tqdm(eval_dataset.shuffle().select(range(number_of_eval_samples))):\n",
    "    success_rate.append(evaluate_position(s))\n",
    "\n",
    "# compute accuracy\n",
    "accuracy = sum(success_rate) / len(success_rate)\n",
    "\n",
    "print(f\"Accuracy: {accuracy * 100:.2f}%\")\n",
    "\n"
   ]
  }
 ],
 "metadata": {
  "kernelspec": {
   "display_name": "llm",
   "language": "python",
   "name": "python3"
  },
  "language_info": {
   "codemirror_mode": {
    "name": "ipython",
    "version": 3
   },
   "file_extension": ".py",
   "mimetype": "text/x-python",
   "name": "python",
   "nbconvert_exporter": "python",
   "pygments_lexer": "ipython3",
   "version": "3.11.7"
  },
  "orig_nbformat": 4
 },
 "nbformat": 4,
 "nbformat_minor": 2
}
